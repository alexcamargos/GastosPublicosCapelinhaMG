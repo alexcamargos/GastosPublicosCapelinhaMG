{
 "cells": [
  {
   "cell_type": "markdown",
   "metadata": {},
   "source": [
    "# Gastos do Município de Capelinha/MG\n",
    "\n",
    "![Capelinha, Estado de Minas Gerais!](assets/capelinha_mg_overview.jpg \"Capelinha/MG\")\n",
    "\n",
    "## Introdução\n",
    "\n",
    "Este projeto utiliza Python para fazer requisições à [API Minha Receita](https://minhareceita.org), uma iniciativa da sociedade civil que disponibiliza, de forma gratuita e acessível, dados da Receita Federal. O objetivo é obter informações sobre os credores do Município de Capelinha/MG, que foram beneficiados com recursos públicos durante o ano de 2022. Os dados empregados nesta análise foram obtidos a partir do [Portal de Dados Abertos do Tribunal de Contas do Estado de Minas Gerais](https://dadosabertos.tce.mg.gov.br).\n",
    "\n",
    "## Disclaimer\n",
    "\n",
    "O storytelling empregado neste estudo foi projetada com o intuito de tornar os dados apresentados e o método de elaboração compreensível para qualquer pessoa, independentemente de sua familiaridade com o assunto. Se você já possui conhecimento técnico em Python e/ou Ciência de Dados, sinta-se à vontade para ignorar quaisquer comentários que possam parecer redundantes ou enfadonhos.\n",
    "\n",
    "## Importando bibliotecas"
   ]
  },
  {
   "cell_type": "code",
   "execution_count": 1,
   "metadata": {
    "collapsed": false
   },
   "outputs": [],
   "source": [
    "# Pandas: Data manipulation and analysis library.\n",
    "# https://pandas.pydata.org\n",
    "try:\n",
    "    import pandas as pd\n",
    "except ModuleNotFoundError:\n",
    "    print('Pandas is not installed, installing now...')\n",
    "    %pip install pandas\n",
    "finally:\n",
    "    import pandas as pd"
   ]
  },
  {
   "cell_type": "code",
   "execution_count": 2,
   "metadata": {
    "collapsed": false
   },
   "outputs": [],
   "source": [
    "# Requests: An elegant and simple HTTP library for Python, built for human beings.\n",
    "# https://requests.readthedocs.io/en/latest/\n",
    "try:\n",
    "    import requests\n",
    "except ModuleNotFoundError:\n",
    "    print('Requests is not installed, installing now...')\n",
    "    %pip install requests\n",
    "finally:\n",
    "    import requests"
   ]
  },
  {
   "cell_type": "code",
   "execution_count": 3,
   "metadata": {
    "collapsed": false
   },
   "outputs": [],
   "source": [
    "# Brazilian Utils: Utils library for Brazilian-specific businesses.\n",
    "# https://pypi.org/project/brutils/\n",
    "try:\n",
    "    from brutils import cnpj\n",
    "except ModuleNotFoundError:\n",
    "    print('Brazilian Utils is not installed, installing now...')\n",
    "    %pip install brutils\n",
    "finally:\n",
    "    from brutils import cnpj"
   ]
  },
  {
   "cell_type": "markdown",
   "metadata": {
    "collapsed": false
   },
   "source": [
    "## Configurando as fontes de dados"
   ]
  },
  {
   "cell_type": "code",
   "execution_count": 4,
   "metadata": {
    "collapsed": false
   },
   "outputs": [],
   "source": [
    "# Global variables\n",
    "\n",
    "# Set the seed for the random number generator.\n",
    "RANDOM_SEED = 42\n",
    "\n",
    "# Default data directory.\n",
    "DATA_PATH = r'data/'\n",
    "\n",
    "# Informações referentes aos Pagamentos realizados pelos órgãos municipais.\n",
    "PAYMENT = f'{DATA_PATH}dadosabertos/2022/2022.3112307.despesa.pagamento.csv'"
   ]
  },
  {
   "cell_type": "markdown",
   "metadata": {
    "collapsed": false
   },
   "source": [
    "## Importando os dados brutos\n",
    "\n",
    "Para uma análise exploratória do conjunto de dados consulte o notebook [analise_exploratoria.ipynb](analise_exploratoria.ipynb). "
   ]
  },
  {
   "cell_type": "code",
   "execution_count": 5,
   "metadata": {
    "collapsed": false
   },
   "outputs": [
    {
     "data": {
      "text/html": [
       "<div>\n",
       "<style scoped>\n",
       "    .dataframe tbody tr th:only-of-type {\n",
       "        vertical-align: middle;\n",
       "    }\n",
       "\n",
       "    .dataframe tbody tr th {\n",
       "        vertical-align: top;\n",
       "    }\n",
       "\n",
       "    .dataframe thead th {\n",
       "        text-align: right;\n",
       "    }\n",
       "</style>\n",
       "<table border=\"1\" class=\"dataframe\">\n",
       "  <thead>\n",
       "    <tr style=\"text-align: right;\">\n",
       "      <th></th>\n",
       "      <th>num_doc_credor</th>\n",
       "      <th>nom_credor</th>\n",
       "    </tr>\n",
       "  </thead>\n",
       "  <tbody>\n",
       "    <tr>\n",
       "      <th>0</th>\n",
       "      <td>14323476000178</td>\n",
       "      <td>ARANAS PAPELARIA EIRELLI EPP</td>\n",
       "    </tr>\n",
       "    <tr>\n",
       "      <th>2</th>\n",
       "      <td>76535764000143</td>\n",
       "      <td>OI S.A. - EM RECUPERACAO JUDICIAL</td>\n",
       "    </tr>\n",
       "    <tr>\n",
       "      <th>5</th>\n",
       "      <td>36169783000189</td>\n",
       "      <td>CAPELINHA EXTINTORES LTDA</td>\n",
       "    </tr>\n",
       "    <tr>\n",
       "      <th>7</th>\n",
       "      <td>61198164000321</td>\n",
       "      <td>PORTO SEGURO CIA DE SEGUROS GERAIS</td>\n",
       "    </tr>\n",
       "    <tr>\n",
       "      <th>8</th>\n",
       "      <td>40222993000160</td>\n",
       "      <td>SO GESSO CAPELINHA LTDA</td>\n",
       "    </tr>\n",
       "    <tr>\n",
       "      <th>...</th>\n",
       "      <td>...</td>\n",
       "      <td>...</td>\n",
       "    </tr>\n",
       "    <tr>\n",
       "      <th>21293</th>\n",
       "      <td>07220279000168</td>\n",
       "      <td>NUTRIR DISTRIBUIDORA DE PRODUTOS PARA TERAPIA ...</td>\n",
       "    </tr>\n",
       "    <tr>\n",
       "      <th>21365</th>\n",
       "      <td>37830642000128</td>\n",
       "      <td>SEQUENZIA ORTO MED EIRELI</td>\n",
       "    </tr>\n",
       "    <tr>\n",
       "      <th>21572</th>\n",
       "      <td>27197452000161</td>\n",
       "      <td>BIATIC ASSESSORIA EM TECNOLOGIA DA INFORMACAO ...</td>\n",
       "    </tr>\n",
       "    <tr>\n",
       "      <th>21607</th>\n",
       "      <td>06037894000170</td>\n",
       "      <td>NILZA MARIA FERREIRA DA SILVA</td>\n",
       "    </tr>\n",
       "    <tr>\n",
       "      <th>21631</th>\n",
       "      <td>11002975000175</td>\n",
       "      <td>TECVIDA COMERCIO E DISTRIBUICAO LTDA</td>\n",
       "    </tr>\n",
       "  </tbody>\n",
       "</table>\n",
       "<p>585 rows × 2 columns</p>\n",
       "</div>"
      ],
      "text/plain": [
       "       num_doc_credor                                         nom_credor\n",
       "0      14323476000178                       ARANAS PAPELARIA EIRELLI EPP\n",
       "2      76535764000143                  OI S.A. - EM RECUPERACAO JUDICIAL\n",
       "5      36169783000189                          CAPELINHA EXTINTORES LTDA\n",
       "7      61198164000321                 PORTO SEGURO CIA DE SEGUROS GERAIS\n",
       "8      40222993000160                            SO GESSO CAPELINHA LTDA\n",
       "...               ...                                                ...\n",
       "21293  07220279000168  NUTRIR DISTRIBUIDORA DE PRODUTOS PARA TERAPIA ...\n",
       "21365  37830642000128                          SEQUENZIA ORTO MED EIRELI\n",
       "21572  27197452000161  BIATIC ASSESSORIA EM TECNOLOGIA DA INFORMACAO ...\n",
       "21607  06037894000170                      NILZA MARIA FERREIRA DA SILVA\n",
       "21631  11002975000175               TECVIDA COMERCIO E DISTRIBUICAO LTDA\n",
       "\n",
       "[585 rows x 2 columns]"
      ]
     },
     "execution_count": 5,
     "metadata": {},
     "output_type": "execute_result"
    }
   ],
   "source": [
    "payment_df = pd.read_csv(PAYMENT, sep=';', encoding='utf-8')\n",
    "# Cria um Dataframe com os credores únicos.\n",
    "creditors_df = payment_df[['num_doc_credor', 'nom_credor']].drop_duplicates()\n",
    "# Eliminando do Dataframe os credores que são pessoas físicas.\n",
    "creditors_df = creditors_df[~creditors_df['num_doc_credor'].str.len().eq(11)]\n",
    "creditors_df"
   ]
  },
  {
   "cell_type": "code",
   "execution_count": 6,
   "metadata": {
    "collapsed": false
   },
   "outputs": [
    {
     "name": "stdout",
     "output_type": "stream",
     "text": [
      "Número de credores: 585\n"
     ]
    }
   ],
   "source": [
    "print(f'Número de credores: {creditors_df.shape[0]}')"
   ]
  },
  {
   "cell_type": "code",
   "execution_count": 7,
   "metadata": {
    "collapsed": false
   },
   "outputs": [
    {
     "data": {
      "text/plain": [
       "num_doc_credor\n",
       "True     583\n",
       "False      2\n",
       "Name: count, dtype: int64"
      ]
     },
     "execution_count": 7,
     "metadata": {},
     "output_type": "execute_result"
    }
   ],
   "source": [
    "# Usando a biblioteca brutils para validar os CNPJs.\n",
    "validate_mask = creditors_df['num_doc_credor'].apply(cnpj.validate)\n",
    "validate_mask.value_counts()"
   ]
  },
  {
   "cell_type": "markdown",
   "metadata": {
    "collapsed": false
   },
   "source": [
    "No contexto dos dispêndios efetuados pela administração pública, é razoável presumir que todos os CNPJs dos credores sejam válidos. Entretanto, a análise do resultado obtido na célula anterior revela a presença de CNPJs que não atendem a esse critério. Passemos à identificação desses CNPJs inválidos."
   ]
  },
  {
   "cell_type": "code",
   "execution_count": 8,
   "metadata": {
    "collapsed": false
   },
   "outputs": [
    {
     "data": {
      "text/html": [
       "<div>\n",
       "<style scoped>\n",
       "    .dataframe tbody tr th:only-of-type {\n",
       "        vertical-align: middle;\n",
       "    }\n",
       "\n",
       "    .dataframe tbody tr th {\n",
       "        vertical-align: top;\n",
       "    }\n",
       "\n",
       "    .dataframe thead th {\n",
       "        text-align: right;\n",
       "    }\n",
       "</style>\n",
       "<table border=\"1\" class=\"dataframe\">\n",
       "  <thead>\n",
       "    <tr style=\"text-align: right;\">\n",
       "      <th></th>\n",
       "      <th>num_doc_credor</th>\n",
       "      <th>nom_credor</th>\n",
       "    </tr>\n",
       "  </thead>\n",
       "  <tbody>\n",
       "    <tr>\n",
       "      <th>246</th>\n",
       "      <td>0099999999999999</td>\n",
       "      <td>TRIBUNAL REGIONAL DO TRABALHO DA 03ª REGIAO VA...</td>\n",
       "    </tr>\n",
       "    <tr>\n",
       "      <th>3831</th>\n",
       "      <td>-1</td>\n",
       "      <td>NAO INFORMADO</td>\n",
       "    </tr>\n",
       "  </tbody>\n",
       "</table>\n",
       "</div>"
      ],
      "text/plain": [
       "        num_doc_credor                                         nom_credor\n",
       "246   0099999999999999  TRIBUNAL REGIONAL DO TRABALHO DA 03ª REGIAO VA...\n",
       "3831                -1                                      NAO INFORMADO"
      ]
     },
     "execution_count": 8,
     "metadata": {},
     "output_type": "execute_result"
    }
   ],
   "source": [
    "# Filtrando os CNPJs inválidos.\n",
    "creditors_df[~validate_mask]"
   ]
  },
  {
   "cell_type": "markdown",
   "metadata": {
    "collapsed": false
   },
   "source": [
    "Ao longo da nossa análise exploratória dos dados, identificamos que estes dois números de CNPJ correspondem às entradas para a folha de pagamentos da Prefeitura Municipal e da Câmara de Vereadores. Assim sendo, temos a possibilidade de excluir estes CNPJs do nosso conjunto de dados.\n",
    "\n",
    "Para uma investigação mais detalhada do conjunto de dados, confira o notebook [analise_exploratoria.ipynb](analise_exploratoria.ipynb)."
   ]
  },
  {
   "cell_type": "code",
   "execution_count": 9,
   "metadata": {
    "collapsed": false
   },
   "outputs": [],
   "source": [
    "# Removendo os CNPJ inválidos.\n",
    "creditors_df = creditors_df[validate_mask]"
   ]
  },
  {
   "cell_type": "markdown",
   "metadata": {
    "collapsed": false
   },
   "source": [
    "## Consultando a API Minha Receita\n",
    "\n",
    "Vamos utilizar a [API Minha Receita](https://minhareceita.org) para obter informações sobre os credores do Município de Capelinha/MG.\n",
    "\n",
    "A API fornece apenas um endpoint principal: `https://minhareceita.org/<número do CNPJ>`."
   ]
  },
  {
   "cell_type": "code",
   "execution_count": 10,
   "metadata": {
    "collapsed": false
   },
   "outputs": [
    {
     "data": {
      "text/plain": [
       "'2023-10-19 é a data de extração dos dados pela Receita Federal.'"
      ]
     },
     "execution_count": 10,
     "metadata": {},
     "output_type": "execute_result"
    }
   ],
   "source": [
    "# Consultado a data de extração dos dados pela Receita Federal.\n",
    "updated_at  = requests.get('https://minhareceita.org/updated')\n",
    "updated_at.json()['message']"
   ]
  },
  {
   "cell_type": "code",
   "execution_count": 11,
   "metadata": {
    "collapsed": false
   },
   "outputs": [],
   "source": [
    "def get_cnpj_data(cnpj: str) -> dict:\n",
    "    \"\"\"Consulta um CNPJ na API Minha Receita e retorna os dados em um dicionário.\n",
    "    \n",
    "    API Minha Receita: https://minhareceita.org/\n",
    "\n",
    "    Parâmetros:\n",
    "        cnpj (str): O CNPJ a ser consultado.\n",
    "\n",
    "    Retorna:\n",
    "        dict: Um dicionário contendo os dados retornados pela API.\n",
    "    \"\"\"\n",
    "\n",
    "    # Criando a URL para consulta do CNPJ.\n",
    "    base_url = 'https://minhareceita.org/'\n",
    "\n",
    "    try:\n",
    "        # Faz a requisição GET para a API Minha Receita.\n",
    "        response = requests.get(base_url + cnpj)\n",
    "        # Verifica se a resposta da API foi bem-sucedida.\n",
    "        response.raise_for_status()\n",
    "    except requests.exceptions.HTTPError as error:\n",
    "        # Imprime o erro se a resposta da API não foi bem-sucedida.\n",
    "        print(error)\n",
    "\n",
    "    return response.json()"
   ]
  },
  {
   "cell_type": "code",
   "execution_count": 12,
   "metadata": {
    "collapsed": false
   },
   "outputs": [],
   "source": [
    "def consulta_api_minha_receita(cnpj: str) -> tuple:\n",
    "    \"\"\"Consulta um CNPJ na API Minha Receita e retorna os dados em três DataFrames separados.\n",
    "    O primeiro DataFrame contém a maioria dos dados retornados pela API.\n",
    "    O segundo e terceiro DataFrames contêm os dados de 'qsa' e 'cnaes_secundarios', respectivamente.\n",
    "\n",
    "    Parâmetros:\n",
    "        cnpj (str): O CNPJ a ser consultado.\n",
    "    \n",
    "    Retorna:\n",
    "        tuple: Uma tupla contendo três DataFrames.\n",
    "    \"\"\"\n",
    "    \n",
    "    # Consulta o CNPJ na API Minha Receita\n",
    "    response = get_cnpj_data(cnpj)\n",
    "    \n",
    "    # Remove 'qsa' e 'cnaes_secundarios' do dicionário e os armazena em variáveis separadas.\n",
    "    qsa = response.pop('qsa')\n",
    "    cnaes_secundarios = response.pop('cnaes_secundarios')\n",
    "\n",
    "    # Converte o restante do JSON para um DataFrame.\n",
    "    request_df = pd.DataFrame([response])\n",
    "\n",
    "    # Converte 'qsa' e 'cnaes_secundarios' para DataFrames separados.\n",
    "    qsa_df = pd.DataFrame(qsa)\n",
    "    cnaes_secundarios_df = pd.DataFrame(cnaes_secundarios)\n",
    "\n",
    "    # Obtém o CNPJ do DataFrame request_df\n",
    "    cnpj_id = request_df['cnpj'].values[0]\n",
    "    \n",
    "    # Adiciona a coluna de CNPJ nos DataFrames qsa_df e cnaes_secundarios_df.\n",
    "    qsa_df.insert(0, 'cnpj', cnpj_id)\n",
    "    cnaes_secundarios_df.insert(0, 'cnpj', cnpj_id)\n",
    "\n",
    "    return request_df, qsa_df, cnaes_secundarios_df"
   ]
  },
  {
   "cell_type": "code",
   "execution_count": 13,
   "metadata": {
    "ExecuteTime": {
     "end_time": "2023-11-04T11:40:54.759240Z",
     "start_time": "2023-11-04T11:33:47.178270300Z"
    },
    "collapsed": false
   },
   "outputs": [],
   "source": [
    "# Consultando todos os CNPJ's na API Minha Receita.\n",
    "\n",
    "# Cria três listas vazias para armazenar os DataFrames retornados pela função consulta_api_minha_receita.\n",
    "cnpj_reponse_data_df, qsa_reponse_data_df, cnaes_secundarios_reponse_data_dt = [], [], []\n",
    "\n",
    "for cnpj in creditors_df['num_doc_credor']:\n",
    "    request_df, qsa_df, cnaes_secundarios_df = consulta_api_minha_receita(cnpj)\n",
    "    cnpj_reponse_data_df.append(request_df)\n",
    "    qsa_reponse_data_df.append(qsa_df)\n",
    "    cnaes_secundarios_reponse_data_dt.append(cnaes_secundarios_df)"
   ]
  },
  {
   "cell_type": "code",
   "execution_count": 14,
   "metadata": {
    "ExecuteTime": {
     "end_time": "2023-11-04T11:45:12.130476900Z",
     "start_time": "2023-11-04T11:45:12.024723200Z"
    },
    "collapsed": false
   },
   "outputs": [
    {
     "name": "stderr",
     "output_type": "stream",
     "text": [
      "C:\\Users\\alexc\\AppData\\Local\\Temp\\ipykernel_24932\\2968485619.py:3: FutureWarning: The behavior of DataFrame concatenation with empty or all-NA entries is deprecated. In a future version, this will no longer exclude empty or all-NA columns when determining the result dtypes. To retain the old behavior, exclude the relevant entries before the concat operation.\n",
      "  qsa_data_df = pd.concat(qsa_reponse_data_df, ignore_index=True)\n"
     ]
    }
   ],
   "source": [
    "# Concatena todos os DataFrames em cada lista para criar um único DataFrame para cada tipo de dado.\n",
    "cnpj_data_df = pd.concat(cnpj_reponse_data_df, ignore_index=True)\n",
    "qsa_data_df = pd.concat(qsa_reponse_data_df, ignore_index=True)\n",
    "cnaes_secundarios_data_dt = pd.concat(cnaes_secundarios_reponse_data_dt, ignore_index=True)"
   ]
  },
  {
   "cell_type": "code",
   "execution_count": 15,
   "metadata": {
    "ExecuteTime": {
     "end_time": "2023-11-04T12:04:43.831414900Z",
     "start_time": "2023-11-04T12:04:43.763099600Z"
    },
    "collapsed": false
   },
   "outputs": [],
   "source": [
    "# Salvando os DataFrames em arquivos CSV.\n",
    "cnpj_data_df.to_csv(f'{DATA_PATH}output/cnpj_credores_2022.csv', index=False)\n",
    "qsa_data_df.to_csv(f'{DATA_PATH}output/qsa_credores_2022.csv', index=False)\n",
    "cnaes_secundarios_data_dt.to_csv(f'{DATA_PATH}output/cnaes_secundarios_credores_2022.csv', index=False)"
   ]
  },
  {
   "cell_type": "code",
   "execution_count": 16,
   "metadata": {
    "ExecuteTime": {
     "end_time": "2023-11-04T12:04:47.187222Z",
     "start_time": "2023-11-04T12:04:47.014052100Z"
    },
    "collapsed": false
   },
   "outputs": [],
   "source": [
    "# Como vamos trabalhar com essas informações no futuro, vamos utilizar um formato de arquivo mais eficiente.\n",
    "cnpj_data_df.to_pickle(f'{DATA_PATH}output/cnpj_credores_2022.pkl')\n",
    "qsa_data_df.to_pickle(f'{DATA_PATH}output/qsa_credores_2022.pkl')\n",
    "cnaes_secundarios_data_dt.to_pickle(f'{DATA_PATH}output/cnaes_secundarios_credores_2022.pkl')"
   ]
  },
  {
   "cell_type": "code",
   "execution_count": 17,
   "metadata": {
    "ExecuteTime": {
     "end_time": "2023-11-04T12:06:23.141444400Z",
     "start_time": "2023-11-04T12:06:23.081739Z"
    },
    "collapsed": false
   },
   "outputs": [],
   "source": [
    "# Vamos salvar a lista contendo os credores únicos em um arquivo CSV.\n",
    "creditors_df.to_csv(f'{DATA_PATH}output/credores_2022.csv', index=False)"
   ]
  }
 ],
 "metadata": {
  "kernelspec": {
   "display_name": "Python 3.10.5 64-bit",
   "language": "python",
   "name": "python3"
  },
  "language_info": {
   "codemirror_mode": {
    "name": "ipython",
    "version": 3
   },
   "file_extension": ".py",
   "mimetype": "text/x-python",
   "name": "python",
   "nbconvert_exporter": "python",
   "pygments_lexer": "ipython3",
   "version": "3.12.0"
  },
  "orig_nbformat": 4,
  "vscode": {
   "interpreter": {
    "hash": "369f2c481f4da34e4445cda3fffd2e751bd1c4d706f27375911949ba6bb62e1c"
   }
  }
 },
 "nbformat": 4,
 "nbformat_minor": 2
}
